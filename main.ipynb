{
 "cells": [
  {
   "cell_type": "code",
   "execution_count": 67,
   "id": "a4a41972",
   "metadata": {},
   "outputs": [],
   "source": [
    "import math\n",
    "import numpy as np\n",
    "import matplotlib.pyplot as plt\n",
    "%matplotlib inline"
   ]
  },
  {
   "cell_type": "code",
   "execution_count": 20,
   "id": "2bfd6dda",
   "metadata": {},
   "outputs": [],
   "source": [
    "def f(x):\n",
    "    return 3*x**2 - 4*x + 5"
   ]
  },
  {
   "cell_type": "code",
   "execution_count": 21,
   "id": "cca07edf",
   "metadata": {},
   "outputs": [
    {
     "data": {
      "text/plain": [
       "20.0"
      ]
     },
     "execution_count": 21,
     "metadata": {},
     "output_type": "execute_result"
    }
   ],
   "source": [
    "f(3.0)"
   ]
  },
  {
   "cell_type": "code",
   "execution_count": 26,
   "id": "334a2165",
   "metadata": {},
   "outputs": [
    {
     "data": {
      "text/plain": [
       "[<matplotlib.lines.Line2D at 0x10e6da2d0>]"
      ]
     },
     "execution_count": 26,
     "metadata": {},
     "output_type": "execute_result"
    },
    {
     "data": {
      "image/png": "[encoded data removed]",
      "text/plain": [
       "<Figure size 640x480 with 1 Axes>"
      ]
     },
     "metadata": {},
     "output_type": "display_data"
    }
   ],
   "source": [
    "xs = np.arange(-5, 5, 0.25)\n",
    "ys = f(xs)\n",
    "plt.plot(xs, ys)"
   ]
  },
  {
   "cell_type": "code",
   "execution_count": 33,
   "id": "a70fc6c4",
   "metadata": {},
   "outputs": [
    {
     "data": {
      "text/plain": [
       "0.0"
      ]
     },
     "execution_count": 33,
     "metadata": {},
     "output_type": "execute_result"
    }
   ],
   "source": [
    "h = 0.00000001\n",
    "x = 2 / 3\n",
    "(f(x + h) - f(x)) / h"
   ]
  },
  {
   "cell_type": "code",
   "execution_count": 35,
   "id": "36e8b0b3",
   "metadata": {},
   "outputs": [
    {
     "name": "stdout",
     "output_type": "stream",
     "text": [
      "4.0\n"
     ]
    }
   ],
   "source": [
    "a = 2.0\n",
    "b = -3.0\n",
    "c = 10.0\n",
    "d = a*b + c\n",
    "print(d)"
   ]
  },
  {
   "cell_type": "code",
   "execution_count": 42,
   "id": "d9cbe00f",
   "metadata": {},
   "outputs": [
    {
     "name": "stdout",
     "output_type": "stream",
     "text": [
      "d1 4.0\n",
      "d2 4.0001\n",
      "slope 0.9999999999976694\n"
     ]
    }
   ],
   "source": [
    "h = 0.0001\n",
    "\n",
    "# inputs\n",
    "a = 2.0\n",
    "b = -3.0\n",
    "c = 10.0\n",
    "\n",
    "d1 = a*b + c\n",
    "c += h\n",
    "d2 = a*b + c\n",
    "\n",
    "print('d1', d1)\n",
    "print('d2', d2)\n",
    "print('slope', (d2 - d1)/h)"
   ]
  },
  {
   "cell_type": "code",
   "execution_count": 151,
   "id": "420c2b0a",
   "metadata": {},
   "outputs": [
    {
     "data": {
      "text/plain": [
       "'e'"
      ]
     },
     "execution_count": 151,
     "metadata": {},
     "output_type": "execute_result"
    }
   ],
   "source": [
    "class Value:\n",
    "    \n",
    "    def __init__(self, data, _children=(), _op='', label=''):\n",
    "        self.data = data\n",
    "        self.grad = 0.0\n",
    "        self._backward = lambda: None\n",
    "        self._prev = set(_children)\n",
    "        self._op = _op\n",
    "        self.label = label\n",
    "    \n",
    "    def __repr__(self):\n",
    "        return f\"Value(data={self.data})\"\n",
    "        \n",
    "    def __add__(self, other):\n",
    "        out = Value(self.data + other.data, (self, other), '+')\n",
    "        \n",
    "        def _backward():\n",
    "            self.grad = 1.0 * out.grad\n",
    "            other.grad = 1.0 * out.grad\n",
    "        out._backward = _backward\n",
    "        \n",
    "        return out\n",
    "    \n",
    "    def __mul__(self, other):\n",
    "        out = Value(self.data * other.data, (self, other),'*')\n",
    "\n",
    "        def _backward():\n",
    "            self.grad = other.data * out.grad\n",
    "            other.grad = self.data * out.grad\n",
    "        out._backward = _backward\n",
    "        \n",
    "        return out\n",
    "    \n",
    "    def tanh(self):\n",
    "        x = self.data\n",
    "        t = (math.exp(2*x) - 1)/(math.exp(2*x) + 1)\n",
    "        out = Value(t, (self, ), 'tanh')\n",
    "\n",
    "        def _backward():\n",
    "            self.grad = (1 - t**2) * out.grad\n",
    "        out._backward = _backward\n",
    "        \n",
    "        return out\n",
    "        \n",
    "    \n",
    "a = Value(2.0, label='a')\n",
    "b = Value(-3.0, label='b')\n",
    "c = Value(10.0, label='c')\n",
    "e = a*b; e.label = 'e'\n",
    "d = e + c; d.label = 'd'\n",
    "f = Value(-2.0, label='f')\n",
    "L = d*f; L.label = 'L'\n",
    "\n",
    "e.label"
   ]
  },
  {
   "cell_type": "code",
   "execution_count": 72,
   "id": "b3d9640e",
   "metadata": {},
   "outputs": [],
   "source": [
    "from graphviz import Digraph\n",
    "\n",
    "def trace(root):\n",
    "    nodes, edges = set(), set()\n",
    "    def build(v):\n",
    "        if v not in nodes:\n",
    "            nodes.add(v)\n",
    "            for child in v._prev:\n",
    "                edges.add((child, v))\n",
    "                build(child)\n",
    "    build(root)\n",
    "    return nodes, edges\n",
    "\n",
    "def draw_dot(root, format='svg', rankdir='LR'):\n",
    "    assert rankdir in ['LR', 'TB']\n",
    "    dot = Digraph(format=format, graph_attr={'rankdir': rankdir})\n",
    "    \n",
    "    nodes, edges = trace(root)\n",
    "    for n in nodes:\n",
    "        dot.node(name=str(id(n)), label = \"{ %s | data %.4f | grad %.4f }\" % (n.label, n.data, n.grad), shape='record')\n",
    "\n",
    "        if n._op:\n",
    "            dot.node(name=str(id(n)) + n._op, label=n._op)\n",
    "            dot.edge(str(id(n)) + n._op, str(id(n)))\n",
    "    \n",
    "    for n1, n2 in edges:\n",
    "        dot.edge(str(id(n1)), str(id(n2)) + n2._op)\n",
    "    \n",
    "    return dot"
   ]
  },
  {
   "cell_type": "code",
   "execution_count": 118,
   "id": "4b0053f0",
   "metadata": {
    "scrolled": false
   },
   "outputs": [
    {
     "data": {
      "image/svg+xml": [
       "<?xml version=\"1.0\" encoding=\"UTF-8\" standalone=\"no\"?>\n",
       "<!DOCTYPE svg PUBLIC \"-//W3C//DTD SVG 1.1//EN\"\n",
       " \"http://www.w3.org/Graphics/SVG/1.1/DTD/svg11.dtd\">\n",
       "<!-- Generated by graphviz version 8.1.0 (20230707.0739)\n",
       " -->\n",
       "<!-- Pages: 1 -->\n",
       "<svg width=\"1140pt\" height=\"154pt\"\n",
       " viewBox=\"0.00 0.00 1139.75 154.00\" xmlns=\"http://www.w3.org/2000/svg\" xmlns:xlink=\"http://www.w3.org/1999/xlink\">\n",
       "<g id=\"graph0\" class=\"graph\" transform=\"scale(1 1) rotate(0) translate(4 150)\">\n",
       "<polygon fill=\"white\" stroke=\"none\" points=\"-4,4 -4,-150 1135.75,-150 1135.75,4 -4,4\"/>\n",
       "<!-- 4722552848 -->\n",
       "<g id=\"node1\" class=\"node\">\n",
       "<title>4722552848</title>\n",
       "<polygon fill=\"none\" stroke=\"black\" points=\"631.12,-54.5 631.12,-90.5 814.88,-90.5 814.88,-54.5 631.12,-54.5\"/>\n",
       "<text text-anchor=\"middle\" x=\"642.5\" y=\"-67.7\" font-family=\"Times,serif\" font-size=\"14.00\">d</text>\n",
       "<polyline fill=\"none\" stroke=\"black\" points=\"653.88,-55 653.88,-90.5\"/>\n",
       "<text text-anchor=\"middle\" x=\"693.75\" y=\"-67.7\" font-family=\"Times,serif\" font-size=\"14.00\">data 4.0000</text>\n",
       "<polyline fill=\"none\" stroke=\"black\" points=\"733.62,-55 733.62,-90.5\"/>\n",
       "<text text-anchor=\"middle\" x=\"774.25\" y=\"-67.7\" font-family=\"Times,serif\" font-size=\"14.00\">grad 0.0000</text>\n",
       "</g>\n",
       "<!-- 4722553744* -->\n",
       "<g id=\"node10\" class=\"node\">\n",
       "<title>4722553744*</title>\n",
       "<ellipse fill=\"none\" stroke=\"black\" cx=\"879\" cy=\"-99.5\" rx=\"27\" ry=\"18\"/>\n",
       "<text text-anchor=\"middle\" x=\"879\" y=\"-94.45\" font-family=\"Times,serif\" font-size=\"14.00\">*</text>\n",
       "</g>\n",
       "<!-- 4722552848&#45;&gt;4722553744* -->\n",
       "<g id=\"edge9\" class=\"edge\">\n",
       "<title>4722552848&#45;&gt;4722553744*</title>\n",
       "<path fill=\"none\" stroke=\"black\" d=\"M814.47,-88.36C824.02,-90.04 833.27,-91.66 841.63,-93.12\"/>\n",
       "<polygon fill=\"black\" stroke=\"black\" points=\"840.97,-96.74 851.42,-95.02 842.18,-89.84 840.97,-96.74\"/>\n",
       "</g>\n",
       "<!-- 4722552848+ -->\n",
       "<g id=\"node2\" class=\"node\">\n",
       "<title>4722552848+</title>\n",
       "<ellipse fill=\"none\" stroke=\"black\" cx=\"567\" cy=\"-72.5\" rx=\"27\" ry=\"18\"/>\n",
       "<text text-anchor=\"middle\" x=\"567\" y=\"-67.45\" font-family=\"Times,serif\" font-size=\"14.00\">+</text>\n",
       "</g>\n",
       "<!-- 4722552848+&#45;&gt;4722552848 -->\n",
       "<g id=\"edge1\" class=\"edge\">\n",
       "<title>4722552848+&#45;&gt;4722552848</title>\n",
       "<path fill=\"none\" stroke=\"black\" d=\"M594.47,-72.5C602.16,-72.5 611.05,-72.5 620.48,-72.5\"/>\n",
       "<polygon fill=\"black\" stroke=\"black\" points=\"620.33,-76 630.33,-72.5 620.33,-69 620.33,-76\"/>\n",
       "</g>\n",
       "<!-- 4709135376 -->\n",
       "<g id=\"node3\" class=\"node\">\n",
       "<title>4709135376</title>\n",
       "<polygon fill=\"none\" stroke=\"black\" points=\"0,-55.5 0,-91.5 188.25,-91.5 188.25,-55.5 0,-55.5\"/>\n",
       "<text text-anchor=\"middle\" x=\"11.38\" y=\"-68.7\" font-family=\"Times,serif\" font-size=\"14.00\">b</text>\n",
       "<polyline fill=\"none\" stroke=\"black\" points=\"22.75,-56 22.75,-91.5\"/>\n",
       "<text text-anchor=\"middle\" x=\"64.88\" y=\"-68.7\" font-family=\"Times,serif\" font-size=\"14.00\">data &#45;3.0000</text>\n",
       "<polyline fill=\"none\" stroke=\"black\" points=\"107,-56 107,-91.5\"/>\n",
       "<text text-anchor=\"middle\" x=\"147.62\" y=\"-68.7\" font-family=\"Times,serif\" font-size=\"14.00\">grad 0.0000</text>\n",
       "</g>\n",
       "<!-- 4722553104* -->\n",
       "<g id=\"node7\" class=\"node\">\n",
       "<title>4722553104*</title>\n",
       "<ellipse fill=\"none\" stroke=\"black\" cx=\"251.25\" cy=\"-45.5\" rx=\"27\" ry=\"18\"/>\n",
       "<text text-anchor=\"middle\" x=\"251.25\" y=\"-40.45\" font-family=\"Times,serif\" font-size=\"14.00\">*</text>\n",
       "</g>\n",
       "<!-- 4709135376&#45;&gt;4722553104* -->\n",
       "<g id=\"edge5\" class=\"edge\">\n",
       "<title>4709135376&#45;&gt;4722553104*</title>\n",
       "<path fill=\"none\" stroke=\"black\" d=\"M188.05,-56.73C197.17,-55.08 206,-53.49 214,-52.04\"/>\n",
       "<polygon fill=\"black\" stroke=\"black\" points=\"214.48,-55.33 223.7,-50.11 213.24,-48.44 214.48,-55.33\"/>\n",
       "</g>\n",
       "<!-- 4722548752 -->\n",
       "<g id=\"node4\" class=\"node\">\n",
       "<title>4722548752</title>\n",
       "<polygon fill=\"none\" stroke=\"black\" points=\"630,-109.5 630,-145.5 816,-145.5 816,-109.5 630,-109.5\"/>\n",
       "<text text-anchor=\"middle\" x=\"640.25\" y=\"-122.7\" font-family=\"Times,serif\" font-size=\"14.00\">f</text>\n",
       "<polyline fill=\"none\" stroke=\"black\" points=\"650.5,-110 650.5,-145.5\"/>\n",
       "<text text-anchor=\"middle\" x=\"692.62\" y=\"-122.7\" font-family=\"Times,serif\" font-size=\"14.00\">data &#45;2.0000</text>\n",
       "<polyline fill=\"none\" stroke=\"black\" points=\"734.75,-110 734.75,-145.5\"/>\n",
       "<text text-anchor=\"middle\" x=\"775.38\" y=\"-122.7\" font-family=\"Times,serif\" font-size=\"14.00\">grad 0.0000</text>\n",
       "</g>\n",
       "<!-- 4722548752&#45;&gt;4722553744* -->\n",
       "<g id=\"edge4\" class=\"edge\">\n",
       "<title>4722548752&#45;&gt;4722553744*</title>\n",
       "<path fill=\"none\" stroke=\"black\" d=\"M815.81,-110.81C824.91,-109.15 833.73,-107.55 841.73,-106.09\"/>\n",
       "<polygon fill=\"black\" stroke=\"black\" points=\"842.22,-109.38 851.43,-104.15 840.96,-102.49 842.22,-109.38\"/>\n",
       "</g>\n",
       "<!-- 4722548304 -->\n",
       "<g id=\"node5\" class=\"node\">\n",
       "<title>4722548304</title>\n",
       "<polygon fill=\"none\" stroke=\"black\" points=\"314.25,-82.5 314.25,-118.5 504,-118.5 504,-82.5 314.25,-82.5\"/>\n",
       "<text text-anchor=\"middle\" x=\"325.25\" y=\"-95.7\" font-family=\"Times,serif\" font-size=\"14.00\">c</text>\n",
       "<polyline fill=\"none\" stroke=\"black\" points=\"336.25,-83 336.25,-118.5\"/>\n",
       "<text text-anchor=\"middle\" x=\"379.5\" y=\"-95.7\" font-family=\"Times,serif\" font-size=\"14.00\">data 10.0000</text>\n",
       "<polyline fill=\"none\" stroke=\"black\" points=\"422.75,-83 422.75,-118.5\"/>\n",
       "<text text-anchor=\"middle\" x=\"463.38\" y=\"-95.7\" font-family=\"Times,serif\" font-size=\"14.00\">grad 0.0000</text>\n",
       "</g>\n",
       "<!-- 4722548304&#45;&gt;4722552848+ -->\n",
       "<g id=\"edge7\" class=\"edge\">\n",
       "<title>4722548304&#45;&gt;4722552848+</title>\n",
       "<path fill=\"none\" stroke=\"black\" d=\"M503.95,-83.65C513.06,-82.01 521.87,-80.43 529.86,-78.99\"/>\n",
       "<polygon fill=\"black\" stroke=\"black\" points=\"530.31,-82.29 539.53,-77.07 529.07,-75.4 530.31,-82.29\"/>\n",
       "</g>\n",
       "<!-- 4722553104 -->\n",
       "<g id=\"node6\" class=\"node\">\n",
       "<title>4722553104</title>\n",
       "<polygon fill=\"none\" stroke=\"black\" points=\"315.38,-27.5 315.38,-63.5 502.88,-63.5 502.88,-27.5 315.38,-27.5\"/>\n",
       "<text text-anchor=\"middle\" x=\"326.38\" y=\"-40.7\" font-family=\"Times,serif\" font-size=\"14.00\">e</text>\n",
       "<polyline fill=\"none\" stroke=\"black\" points=\"337.38,-28 337.38,-63.5\"/>\n",
       "<text text-anchor=\"middle\" x=\"379.5\" y=\"-40.7\" font-family=\"Times,serif\" font-size=\"14.00\">data &#45;6.0000</text>\n",
       "<polyline fill=\"none\" stroke=\"black\" points=\"421.62,-28 421.62,-63.5\"/>\n",
       "<text text-anchor=\"middle\" x=\"462.25\" y=\"-40.7\" font-family=\"Times,serif\" font-size=\"14.00\">grad 0.0000</text>\n",
       "</g>\n",
       "<!-- 4722553104&#45;&gt;4722552848+ -->\n",
       "<g id=\"edge8\" class=\"edge\">\n",
       "<title>4722553104&#45;&gt;4722552848+</title>\n",
       "<path fill=\"none\" stroke=\"black\" d=\"M502.6,-61.52C512.15,-63.17 521.41,-64.78 529.76,-66.22\"/>\n",
       "<polygon fill=\"black\" stroke=\"black\" points=\"529.07,-69.83 539.52,-68.09 530.27,-62.93 529.07,-69.83\"/>\n",
       "</g>\n",
       "<!-- 4722553104*&#45;&gt;4722553104 -->\n",
       "<g id=\"edge2\" class=\"edge\">\n",
       "<title>4722553104*&#45;&gt;4722553104</title>\n",
       "<path fill=\"none\" stroke=\"black\" d=\"M278.69,-45.5C286.39,-45.5 295.3,-45.5 304.78,-45.5\"/>\n",
       "<polygon fill=\"black\" stroke=\"black\" points=\"304.68,-49 314.68,-45.5 304.68,-42 304.68,-49\"/>\n",
       "</g>\n",
       "<!-- 4722547472 -->\n",
       "<g id=\"node8\" class=\"node\">\n",
       "<title>4722547472</title>\n",
       "<polygon fill=\"none\" stroke=\"black\" points=\"2.62,-0.5 2.62,-36.5 185.62,-36.5 185.62,-0.5 2.62,-0.5\"/>\n",
       "<text text-anchor=\"middle\" x=\"13.62\" y=\"-13.7\" font-family=\"Times,serif\" font-size=\"14.00\">a</text>\n",
       "<polyline fill=\"none\" stroke=\"black\" points=\"24.62,-1 24.62,-36.5\"/>\n",
       "<text text-anchor=\"middle\" x=\"64.5\" y=\"-13.7\" font-family=\"Times,serif\" font-size=\"14.00\">data 2.0000</text>\n",
       "<polyline fill=\"none\" stroke=\"black\" points=\"104.38,-1 104.38,-36.5\"/>\n",
       "<text text-anchor=\"middle\" x=\"145\" y=\"-13.7\" font-family=\"Times,serif\" font-size=\"14.00\">grad 0.0000</text>\n",
       "</g>\n",
       "<!-- 4722547472&#45;&gt;4722553104* -->\n",
       "<g id=\"edge6\" class=\"edge\">\n",
       "<title>4722547472&#45;&gt;4722553104*</title>\n",
       "<path fill=\"none\" stroke=\"black\" d=\"M185.36,-34.21C195.48,-35.97 205.31,-37.68 214.13,-39.21\"/>\n",
       "<polygon fill=\"black\" stroke=\"black\" points=\"213.25,-42.79 223.7,-41.05 214.45,-35.89 213.25,-42.79\"/>\n",
       "</g>\n",
       "<!-- 4722553744 -->\n",
       "<g id=\"node9\" class=\"node\">\n",
       "<title>4722553744</title>\n",
       "<polygon fill=\"none\" stroke=\"black\" points=\"942,-81.5 942,-117.5 1131.75,-117.5 1131.75,-81.5 942,-81.5\"/>\n",
       "<text text-anchor=\"middle\" x=\"954.12\" y=\"-94.7\" font-family=\"Times,serif\" font-size=\"14.00\">L</text>\n",
       "<polyline fill=\"none\" stroke=\"black\" points=\"966.25,-82 966.25,-117.5\"/>\n",
       "<text text-anchor=\"middle\" x=\"1008.38\" y=\"-94.7\" font-family=\"Times,serif\" font-size=\"14.00\">data &#45;8.0000</text>\n",
       "<polyline fill=\"none\" stroke=\"black\" points=\"1050.5,-82 1050.5,-117.5\"/>\n",
       "<text text-anchor=\"middle\" x=\"1091.12\" y=\"-94.7\" font-family=\"Times,serif\" font-size=\"14.00\">grad 0.0000</text>\n",
       "</g>\n",
       "<!-- 4722553744*&#45;&gt;4722553744 -->\n",
       "<g id=\"edge3\" class=\"edge\">\n",
       "<title>4722553744*&#45;&gt;4722553744</title>\n",
       "<path fill=\"none\" stroke=\"black\" d=\"M906.44,-99.5C913.81,-99.5 922.29,-99.5 931.31,-99.5\"/>\n",
       "<polygon fill=\"black\" stroke=\"black\" points=\"931.11,-103 941.11,-99.5 931.11,-96 931.11,-103\"/>\n",
       "</g>\n",
       "</g>\n",
       "</svg>\n"
      ],
      "text/plain": [
       "<graphviz.graphs.Digraph at 0x1197c7910>"
      ]
     },
     "execution_count": 118,
     "metadata": {},
     "output_type": "execute_result"
    }
   ],
   "source": [
    "draw_dot(L)"
   ]
  },
  {
   "cell_type": "code",
   "execution_count": 59,
   "id": "46498210",
   "metadata": {},
   "outputs": [],
   "source": [
    "L.grad = 1.0\n",
    "f.grad = 4.0\n",
    "d.grad = -2.0\n",
    "c.grad = -2.0 * 1\n",
    "e.grad = -2.0 * 1\n",
    "a.grad = -3.0 * -2.0\n",
    "b.grad = 2.0 * -2.0"
   ]
  },
  {
   "cell_type": "code",
   "execution_count": 74,
   "id": "5de6ad45",
   "metadata": {},
   "outputs": [
    {
     "name": "stdout",
     "output_type": "stream",
     "text": [
      "0.0\n"
     ]
    }
   ],
   "source": [
    "def lol():\n",
    "\n",
    "    h = 0.001\n",
    "\n",
    "    a = Value(2.0, label='a')\n",
    "    b = Value(-3.0, label='b')\n",
    "    c = Value(10.0, label='c')\n",
    "    e = a*b; e.label = 'e'\n",
    "    d = e + c; d.label = 'd'\n",
    "    f = Value(-2.0, label='f')\n",
    "    L = d*f; L.label = 'L'\n",
    "    L1 = L.data\n",
    "\n",
    "    a = Value(2.0, label='a')\n",
    "    b = Value(-3.0, label='b')\n",
    "    c = Value(10.0, label='c')\n",
    "    e = a*b; e.label = 'e'\n",
    "    d = e + c; d.label = 'd'\n",
    "    f = Value(-2.0, label='f')\n",
    "    L = d*f; L.label = 'L'\n",
    "    L2 = L.data\n",
    "\n",
    "    print((L2 - L1) / h)\n",
    "\n",
    "lol()\n"
   ]
  },
  {
   "cell_type": "code",
   "execution_count": 75,
   "id": "ef829107",
   "metadata": {},
   "outputs": [
    {
     "data": {
      "text/plain": [
       "-8.0"
      ]
     },
     "execution_count": 75,
     "metadata": {},
     "output_type": "execute_result"
    }
   ],
   "source": [
    "a.data += 0.01 * a.grad\n",
    "b.data += 0.01 * b.grad\n",
    "c.data += 0.01 * c.grad\n",
    "f.data += 0.01 * f.grad\n",
    "\n",
    "e = a * b\n",
    "d = e + c\n",
    "L = d * f\n",
    "\n",
    "L.data"
   ]
  },
  {
   "cell_type": "code",
   "execution_count": 152,
   "id": "a482d909",
   "metadata": {},
   "outputs": [],
   "source": [
    "# inputs x1, x2\n",
    "x1 = Value(2.0, label='x1')\n",
    "x2 = Value(0.0, label='x2')\n",
    "\n",
    "# weights w1, w2\n",
    "w1 = Value(-3.0, label='w1')\n",
    "w2 = Value(1.0, label='w2')\n",
    "\n",
    "# bias\n",
    "b = Value(6.8813735870195, label='b')\n",
    "\n",
    "# x1*w1 + x2*w2 + b\n",
    "x1w1 = x1 * w1; x1w1.label = 'x1w1'\n",
    "x2w2 = x2 * w2; x2w2.label = 'x2w2'\n",
    "x1w1_x2w2 = x1w1 + x2w2; x1w1_x2w2.label = 'x1w1 + x2w2'\n",
    "n = x1w1_x2w2 + b; n.label = 'n'\n",
    "o = n.tanh()\n"
   ]
  },
  {
   "cell_type": "code",
   "execution_count": 156,
   "id": "965f4ece",
   "metadata": {},
   "outputs": [
    {
     "data": {
      "image/svg+xml": [
       "<?xml version=\"1.0\" encoding=\"UTF-8\" standalone=\"no\"?>\n",
       "<!DOCTYPE svg PUBLIC \"-//W3C//DTD SVG 1.1//EN\"\n",
       " \"http://www.w3.org/Graphics/SVG/1.1/DTD/svg11.dtd\">\n",
       "<!-- Generated by graphviz version 8.1.0 (20230707.0739)\n",
       " -->\n",
       "<!-- Pages: 1 -->\n",
       "<svg width=\"1543pt\" height=\"210pt\"\n",
       " viewBox=\"0.00 0.00 1543.25 210.00\" xmlns=\"http://www.w3.org/2000/svg\" xmlns:xlink=\"http://www.w3.org/1999/xlink\">\n",
       "<g id=\"graph0\" class=\"graph\" transform=\"scale(1 1) rotate(0) translate(4 206)\">\n",
       "<polygon fill=\"white\" stroke=\"none\" points=\"-4,4 -4,-206 1539.25,-206 1539.25,4 -4,4\"/>\n",
       "<!-- 4721389648 -->\n",
       "<g id=\"node1\" class=\"node\">\n",
       "<title>4721389648</title>\n",
       "<polygon fill=\"none\" stroke=\"black\" points=\"698.25,-137.5 698.25,-173.5 882,-173.5 882,-137.5 698.25,-137.5\"/>\n",
       "<text text-anchor=\"middle\" x=\"709.62\" y=\"-150.7\" font-family=\"Times,serif\" font-size=\"14.00\">b</text>\n",
       "<polyline fill=\"none\" stroke=\"black\" points=\"721,-138 721,-173.5\"/>\n",
       "<text text-anchor=\"middle\" x=\"760.88\" y=\"-150.7\" font-family=\"Times,serif\" font-size=\"14.00\">data 6.8814</text>\n",
       "<polyline fill=\"none\" stroke=\"black\" points=\"800.75,-138 800.75,-173.5\"/>\n",
       "<text text-anchor=\"middle\" x=\"841.38\" y=\"-150.7\" font-family=\"Times,serif\" font-size=\"14.00\">grad 0.5000</text>\n",
       "</g>\n",
       "<!-- 4721473104+ -->\n",
       "<g id=\"node3\" class=\"node\">\n",
       "<title>4721473104+</title>\n",
       "<ellipse fill=\"none\" stroke=\"black\" cx=\"981.75\" cy=\"-127.5\" rx=\"27\" ry=\"18\"/>\n",
       "<text text-anchor=\"middle\" x=\"981.75\" y=\"-122.45\" font-family=\"Times,serif\" font-size=\"14.00\">+</text>\n",
       "</g>\n",
       "<!-- 4721389648&#45;&gt;4721473104+ -->\n",
       "<g id=\"edge14\" class=\"edge\">\n",
       "<title>4721389648&#45;&gt;4721473104+</title>\n",
       "<path fill=\"none\" stroke=\"black\" d=\"M881.77,-142.12C903.9,-138.85 926.34,-135.53 944.24,-132.89\"/>\n",
       "<polygon fill=\"black\" stroke=\"black\" points=\"944.65,-136.22 954.03,-131.3 943.63,-129.3 944.65,-136.22\"/>\n",
       "</g>\n",
       "<!-- 4721473104 -->\n",
       "<g id=\"node2\" class=\"node\">\n",
       "<title>4721473104</title>\n",
       "<polygon fill=\"none\" stroke=\"black\" points=\"1044.75,-109.5 1044.75,-145.5 1228.5,-145.5 1228.5,-109.5 1044.75,-109.5\"/>\n",
       "<text text-anchor=\"middle\" x=\"1056.12\" y=\"-122.7\" font-family=\"Times,serif\" font-size=\"14.00\">n</text>\n",
       "<polyline fill=\"none\" stroke=\"black\" points=\"1067.5,-110 1067.5,-145.5\"/>\n",
       "<text text-anchor=\"middle\" x=\"1107.38\" y=\"-122.7\" font-family=\"Times,serif\" font-size=\"14.00\">data 0.8814</text>\n",
       "<polyline fill=\"none\" stroke=\"black\" points=\"1147.25,-110 1147.25,-145.5\"/>\n",
       "<text text-anchor=\"middle\" x=\"1187.88\" y=\"-122.7\" font-family=\"Times,serif\" font-size=\"14.00\">grad 0.5000</text>\n",
       "</g>\n",
       "<!-- 4437276944tanh -->\n",
       "<g id=\"node10\" class=\"node\">\n",
       "<title>4437276944tanh</title>\n",
       "<ellipse fill=\"none\" stroke=\"black\" cx=\"1291.5\" cy=\"-127.5\" rx=\"27\" ry=\"18\"/>\n",
       "<text text-anchor=\"middle\" x=\"1291.5\" y=\"-122.45\" font-family=\"Times,serif\" font-size=\"14.00\">tanh</text>\n",
       "</g>\n",
       "<!-- 4721473104&#45;&gt;4437276944tanh -->\n",
       "<g id=\"edge9\" class=\"edge\">\n",
       "<title>4721473104&#45;&gt;4437276944tanh</title>\n",
       "<path fill=\"none\" stroke=\"black\" d=\"M1228.32,-127.5C1237.05,-127.5 1245.51,-127.5 1253.25,-127.5\"/>\n",
       "<polygon fill=\"black\" stroke=\"black\" points=\"1253,-131 1263,-127.5 1253,-124 1253,-131\"/>\n",
       "</g>\n",
       "<!-- 4721473104+&#45;&gt;4721473104 -->\n",
       "<g id=\"edge1\" class=\"edge\">\n",
       "<title>4721473104+&#45;&gt;4721473104</title>\n",
       "<path fill=\"none\" stroke=\"black\" d=\"M1009.03,-127.5C1016.45,-127.5 1025.01,-127.5 1034.1,-127.5\"/>\n",
       "<polygon fill=\"black\" stroke=\"black\" points=\"1033.97,-131 1043.97,-127.5 1033.97,-124 1033.97,-131\"/>\n",
       "</g>\n",
       "<!-- 4716964944 -->\n",
       "<g id=\"node4\" class=\"node\">\n",
       "<title>4716964944</title>\n",
       "<polygon fill=\"none\" stroke=\"black\" points=\"0,-165.5 0,-201.5 198,-201.5 198,-165.5 0,-165.5\"/>\n",
       "<text text-anchor=\"middle\" x=\"16.25\" y=\"-178.7\" font-family=\"Times,serif\" font-size=\"14.00\">w1</text>\n",
       "<polyline fill=\"none\" stroke=\"black\" points=\"32.5,-166 32.5,-201.5\"/>\n",
       "<text text-anchor=\"middle\" x=\"74.62\" y=\"-178.7\" font-family=\"Times,serif\" font-size=\"14.00\">data &#45;3.0000</text>\n",
       "<polyline fill=\"none\" stroke=\"black\" points=\"116.75,-166 116.75,-201.5\"/>\n",
       "<text text-anchor=\"middle\" x=\"157.38\" y=\"-178.7\" font-family=\"Times,serif\" font-size=\"14.00\">grad 0.0000</text>\n",
       "</g>\n",
       "<!-- 4721391760* -->\n",
       "<g id=\"node7\" class=\"node\">\n",
       "<title>4721391760*</title>\n",
       "<ellipse fill=\"none\" stroke=\"black\" cx=\"261\" cy=\"-128.5\" rx=\"27\" ry=\"18\"/>\n",
       "<text text-anchor=\"middle\" x=\"261\" y=\"-123.45\" font-family=\"Times,serif\" font-size=\"14.00\">*</text>\n",
       "</g>\n",
       "<!-- 4716964944&#45;&gt;4721391760* -->\n",
       "<g id=\"edge10\" class=\"edge\">\n",
       "<title>4716964944&#45;&gt;4721391760*</title>\n",
       "<path fill=\"none\" stroke=\"black\" d=\"M170.28,-165.56C179.67,-162.75 189.12,-159.71 198,-156.5 208.31,-152.78 219.28,-148.08 229.1,-143.59\"/>\n",
       "<polygon fill=\"black\" stroke=\"black\" points=\"230.24,-146.46 237.82,-139.05 227.28,-140.11 230.24,-146.46\"/>\n",
       "</g>\n",
       "<!-- 4721504336 -->\n",
       "<g id=\"node5\" class=\"node\">\n",
       "<title>4721504336</title>\n",
       "<polygon fill=\"none\" stroke=\"black\" points=\"3.75,-110.5 3.75,-146.5 194.25,-146.5 194.25,-110.5 3.75,-110.5\"/>\n",
       "<text text-anchor=\"middle\" x=\"18.5\" y=\"-123.7\" font-family=\"Times,serif\" font-size=\"14.00\">x1</text>\n",
       "<polyline fill=\"none\" stroke=\"black\" points=\"33.25,-111 33.25,-146.5\"/>\n",
       "<text text-anchor=\"middle\" x=\"73.12\" y=\"-123.7\" font-family=\"Times,serif\" font-size=\"14.00\">data 2.0000</text>\n",
       "<polyline fill=\"none\" stroke=\"black\" points=\"113,-111 113,-146.5\"/>\n",
       "<text text-anchor=\"middle\" x=\"153.62\" y=\"-123.7\" font-family=\"Times,serif\" font-size=\"14.00\">grad 0.0000</text>\n",
       "</g>\n",
       "<!-- 4721504336&#45;&gt;4721391760* -->\n",
       "<g id=\"edge7\" class=\"edge\">\n",
       "<title>4721504336&#45;&gt;4721391760*</title>\n",
       "<path fill=\"none\" stroke=\"black\" d=\"M194,-128.5C204.12,-128.5 213.93,-128.5 222.76,-128.5\"/>\n",
       "<polygon fill=\"black\" stroke=\"black\" points=\"222.74,-132 232.74,-128.5 222.74,-125 222.74,-132\"/>\n",
       "</g>\n",
       "<!-- 4721391760 -->\n",
       "<g id=\"node6\" class=\"node\">\n",
       "<title>4721391760</title>\n",
       "<polygon fill=\"none\" stroke=\"black\" points=\"324,-110.5 324,-146.5 535.5,-146.5 535.5,-110.5 324,-110.5\"/>\n",
       "<text text-anchor=\"middle\" x=\"347\" y=\"-123.7\" font-family=\"Times,serif\" font-size=\"14.00\">x1w1</text>\n",
       "<polyline fill=\"none\" stroke=\"black\" points=\"370,-111 370,-146.5\"/>\n",
       "<text text-anchor=\"middle\" x=\"412.12\" y=\"-123.7\" font-family=\"Times,serif\" font-size=\"14.00\">data &#45;6.0000</text>\n",
       "<polyline fill=\"none\" stroke=\"black\" points=\"454.25,-111 454.25,-146.5\"/>\n",
       "<text text-anchor=\"middle\" x=\"494.88\" y=\"-123.7\" font-family=\"Times,serif\" font-size=\"14.00\">grad 0.5000</text>\n",
       "</g>\n",
       "<!-- 4721466192+ -->\n",
       "<g id=\"node12\" class=\"node\">\n",
       "<title>4721466192+</title>\n",
       "<ellipse fill=\"none\" stroke=\"black\" cx=\"598.5\" cy=\"-100.5\" rx=\"27\" ry=\"18\"/>\n",
       "<text text-anchor=\"middle\" x=\"598.5\" y=\"-95.45\" font-family=\"Times,serif\" font-size=\"14.00\">+</text>\n",
       "</g>\n",
       "<!-- 4721391760&#45;&gt;4721466192+ -->\n",
       "<g id=\"edge12\" class=\"edge\">\n",
       "<title>4721391760&#45;&gt;4721466192+</title>\n",
       "<path fill=\"none\" stroke=\"black\" d=\"M535.41,-110.93C544.57,-109.39 553.36,-107.91 561.31,-106.58\"/>\n",
       "<polygon fill=\"black\" stroke=\"black\" points=\"561.64,-109.9 570.92,-104.8 560.48,-103 561.64,-109.9\"/>\n",
       "</g>\n",
       "<!-- 4721391760*&#45;&gt;4721391760 -->\n",
       "<g id=\"edge2\" class=\"edge\">\n",
       "<title>4721391760*&#45;&gt;4721391760</title>\n",
       "<path fill=\"none\" stroke=\"black\" d=\"M288.42,-128.5C295.75,-128.5 304.2,-128.5 313.25,-128.5\"/>\n",
       "<polygon fill=\"black\" stroke=\"black\" points=\"313.11,-132 323.11,-128.5 313.11,-125 313.11,-132\"/>\n",
       "</g>\n",
       "<!-- 4716964496 -->\n",
       "<g id=\"node8\" class=\"node\">\n",
       "<title>4716964496</title>\n",
       "<polygon fill=\"none\" stroke=\"black\" points=\"3.75,-55.5 3.75,-91.5 194.25,-91.5 194.25,-55.5 3.75,-55.5\"/>\n",
       "<text text-anchor=\"middle\" x=\"18.5\" y=\"-68.7\" font-family=\"Times,serif\" font-size=\"14.00\">x2</text>\n",
       "<polyline fill=\"none\" stroke=\"black\" points=\"33.25,-56 33.25,-91.5\"/>\n",
       "<text text-anchor=\"middle\" x=\"73.12\" y=\"-68.7\" font-family=\"Times,serif\" font-size=\"14.00\">data 0.0000</text>\n",
       "<polyline fill=\"none\" stroke=\"black\" points=\"113,-56 113,-91.5\"/>\n",
       "<text text-anchor=\"middle\" x=\"153.62\" y=\"-68.7\" font-family=\"Times,serif\" font-size=\"14.00\">grad 0.0000</text>\n",
       "</g>\n",
       "<!-- 4721381840* -->\n",
       "<g id=\"node15\" class=\"node\">\n",
       "<title>4721381840*</title>\n",
       "<ellipse fill=\"none\" stroke=\"black\" cx=\"261\" cy=\"-73.5\" rx=\"27\" ry=\"18\"/>\n",
       "<text text-anchor=\"middle\" x=\"261\" y=\"-68.45\" font-family=\"Times,serif\" font-size=\"14.00\">*</text>\n",
       "</g>\n",
       "<!-- 4716964496&#45;&gt;4721381840* -->\n",
       "<g id=\"edge13\" class=\"edge\">\n",
       "<title>4716964496&#45;&gt;4721381840*</title>\n",
       "<path fill=\"none\" stroke=\"black\" d=\"M194,-73.5C204.12,-73.5 213.93,-73.5 222.76,-73.5\"/>\n",
       "<polygon fill=\"black\" stroke=\"black\" points=\"222.74,-77 232.74,-73.5 222.74,-70 222.74,-77\"/>\n",
       "</g>\n",
       "<!-- 4437276944 -->\n",
       "<g id=\"node9\" class=\"node\">\n",
       "<title>4437276944</title>\n",
       "<polygon fill=\"none\" stroke=\"black\" points=\"1354.5,-109.5 1354.5,-145.5 1535.25,-145.5 1535.25,-109.5 1354.5,-109.5\"/>\n",
       "<text text-anchor=\"middle\" x=\"1364.38\" y=\"-122.7\" font-family=\"Times,serif\" font-size=\"14.00\"> </text>\n",
       "<polyline fill=\"none\" stroke=\"black\" points=\"1374.25,-110 1374.25,-145.5\"/>\n",
       "<text text-anchor=\"middle\" x=\"1414.12\" y=\"-122.7\" font-family=\"Times,serif\" font-size=\"14.00\">data 0.7071</text>\n",
       "<polyline fill=\"none\" stroke=\"black\" points=\"1454,-110 1454,-145.5\"/>\n",
       "<text text-anchor=\"middle\" x=\"1494.62\" y=\"-122.7\" font-family=\"Times,serif\" font-size=\"14.00\">grad 1.0000</text>\n",
       "</g>\n",
       "<!-- 4437276944tanh&#45;&gt;4437276944 -->\n",
       "<g id=\"edge3\" class=\"edge\">\n",
       "<title>4437276944tanh&#45;&gt;4437276944</title>\n",
       "<path fill=\"none\" stroke=\"black\" d=\"M1318.87,-127.5C1326.3,-127.5 1334.85,-127.5 1343.92,-127.5\"/>\n",
       "<polygon fill=\"black\" stroke=\"black\" points=\"1343.77,-131 1353.77,-127.5 1343.77,-124 1343.77,-131\"/>\n",
       "</g>\n",
       "<!-- 4721466192 -->\n",
       "<g id=\"node11\" class=\"node\">\n",
       "<title>4721466192</title>\n",
       "<polygon fill=\"none\" stroke=\"black\" points=\"661.5,-82.5 661.5,-118.5 918.75,-118.5 918.75,-82.5 661.5,-82.5\"/>\n",
       "<text text-anchor=\"middle\" x=\"707.38\" y=\"-95.7\" font-family=\"Times,serif\" font-size=\"14.00\">x1w1 + x2w2</text>\n",
       "<polyline fill=\"none\" stroke=\"black\" points=\"753.25,-83 753.25,-118.5\"/>\n",
       "<text text-anchor=\"middle\" x=\"795.38\" y=\"-95.7\" font-family=\"Times,serif\" font-size=\"14.00\">data &#45;6.0000</text>\n",
       "<polyline fill=\"none\" stroke=\"black\" points=\"837.5,-83 837.5,-118.5\"/>\n",
       "<text text-anchor=\"middle\" x=\"878.12\" y=\"-95.7\" font-family=\"Times,serif\" font-size=\"14.00\">grad 0.5000</text>\n",
       "</g>\n",
       "<!-- 4721466192&#45;&gt;4721473104+ -->\n",
       "<g id=\"edge8\" class=\"edge\">\n",
       "<title>4721466192&#45;&gt;4721473104+</title>\n",
       "<path fill=\"none\" stroke=\"black\" d=\"M917.34,-118.47C926.89,-119.83 935.96,-121.12 944.09,-122.28\"/>\n",
       "<polygon fill=\"black\" stroke=\"black\" points=\"943.53,-125.88 953.93,-123.82 944.52,-118.95 943.53,-125.88\"/>\n",
       "</g>\n",
       "<!-- 4721466192+&#45;&gt;4721466192 -->\n",
       "<g id=\"edge4\" class=\"edge\">\n",
       "<title>4721466192+&#45;&gt;4721466192</title>\n",
       "<path fill=\"none\" stroke=\"black\" d=\"M625.87,-100.5C633.26,-100.5 641.84,-100.5 651.13,-100.5\"/>\n",
       "<polygon fill=\"black\" stroke=\"black\" points=\"650.89,-104 660.89,-100.5 650.89,-97 650.89,-104\"/>\n",
       "</g>\n",
       "<!-- 4721386320 -->\n",
       "<g id=\"node13\" class=\"node\">\n",
       "<title>4721386320</title>\n",
       "<polygon fill=\"none\" stroke=\"black\" points=\"2.25,-0.5 2.25,-36.5 195.75,-36.5 195.75,-0.5 2.25,-0.5\"/>\n",
       "<text text-anchor=\"middle\" x=\"18.5\" y=\"-13.7\" font-family=\"Times,serif\" font-size=\"14.00\">w2</text>\n",
       "<polyline fill=\"none\" stroke=\"black\" points=\"34.75,-1 34.75,-36.5\"/>\n",
       "<text text-anchor=\"middle\" x=\"74.62\" y=\"-13.7\" font-family=\"Times,serif\" font-size=\"14.00\">data 1.0000</text>\n",
       "<polyline fill=\"none\" stroke=\"black\" points=\"114.5,-1 114.5,-36.5\"/>\n",
       "<text text-anchor=\"middle\" x=\"155.12\" y=\"-13.7\" font-family=\"Times,serif\" font-size=\"14.00\">grad 0.0000</text>\n",
       "</g>\n",
       "<!-- 4721386320&#45;&gt;4721381840* -->\n",
       "<g id=\"edge6\" class=\"edge\">\n",
       "<title>4721386320&#45;&gt;4721381840*</title>\n",
       "<path fill=\"none\" stroke=\"black\" d=\"M167.33,-36.46C177.67,-39.59 188.17,-42.97 198,-46.5 208.06,-50.11 218.81,-54.57 228.49,-58.82\"/>\n",
       "<polygon fill=\"black\" stroke=\"black\" points=\"226.92,-62.4 237.48,-63.29 229.78,-56.01 226.92,-62.4\"/>\n",
       "</g>\n",
       "<!-- 4721381840 -->\n",
       "<g id=\"node14\" class=\"node\">\n",
       "<title>4721381840</title>\n",
       "<polygon fill=\"none\" stroke=\"black\" points=\"326.25,-55.5 326.25,-91.5 533.25,-91.5 533.25,-55.5 326.25,-55.5\"/>\n",
       "<text text-anchor=\"middle\" x=\"349.25\" y=\"-68.7\" font-family=\"Times,serif\" font-size=\"14.00\">x2w2</text>\n",
       "<polyline fill=\"none\" stroke=\"black\" points=\"372.25,-56 372.25,-91.5\"/>\n",
       "<text text-anchor=\"middle\" x=\"412.12\" y=\"-68.7\" font-family=\"Times,serif\" font-size=\"14.00\">data 0.0000</text>\n",
       "<polyline fill=\"none\" stroke=\"black\" points=\"452,-56 452,-91.5\"/>\n",
       "<text text-anchor=\"middle\" x=\"492.62\" y=\"-68.7\" font-family=\"Times,serif\" font-size=\"14.00\">grad 0.5000</text>\n",
       "</g>\n",
       "<!-- 4721381840&#45;&gt;4721466192+ -->\n",
       "<g id=\"edge11\" class=\"edge\">\n",
       "<title>4721381840&#45;&gt;4721466192+</title>\n",
       "<path fill=\"none\" stroke=\"black\" d=\"M533.03,-90.06C542.97,-91.67 552.53,-93.22 561.1,-94.61\"/>\n",
       "<polygon fill=\"black\" stroke=\"black\" points=\"560.33,-98.19 570.76,-96.33 561.44,-91.28 560.33,-98.19\"/>\n",
       "</g>\n",
       "<!-- 4721381840*&#45;&gt;4721381840 -->\n",
       "<g id=\"edge5\" class=\"edge\">\n",
       "<title>4721381840*&#45;&gt;4721381840</title>\n",
       "<path fill=\"none\" stroke=\"black\" d=\"M288.42,-73.5C296.46,-73.5 305.86,-73.5 315.91,-73.5\"/>\n",
       "<polygon fill=\"black\" stroke=\"black\" points=\"315.6,-77 325.6,-73.5 315.6,-70 315.6,-77\"/>\n",
       "</g>\n",
       "</g>\n",
       "</svg>\n"
      ],
      "text/plain": [
       "<graphviz.graphs.Digraph at 0x108690b90>"
      ]
     },
     "execution_count": 156,
     "metadata": {},
     "output_type": "execute_result"
    }
   ],
   "source": [
    "draw_dot(o)"
   ]
  },
  {
   "cell_type": "code",
   "execution_count": 153,
   "id": "1696ba99",
   "metadata": {},
   "outputs": [],
   "source": [
    "o.grad = 1.0"
   ]
  },
  {
   "cell_type": "code",
   "execution_count": 154,
   "id": "28558c32",
   "metadata": {},
   "outputs": [],
   "source": [
    "o._backward()\n",
    "n._backward()\n",
    "b._backward()\n",
    "x1w1_x2w2._backward()"
   ]
  },
  {
   "cell_type": "code",
   "execution_count": 155,
   "id": "9220e14c",
   "metadata": {},
   "outputs": [],
   "source": [
    "x1w1._backward()\n",
    "x2w2._backward()"
   ]
  },
  {
   "cell_type": "code",
   "execution_count": 101,
   "id": "c4d896ba",
   "metadata": {},
   "outputs": [
    {
     "data": {
      "text/plain": [
       "0.5000000000000306"
      ]
     },
     "execution_count": 101,
     "metadata": {},
     "output_type": "execute_result"
    }
   ],
   "source": [
    "# o = tanh(n)\n",
    "# do/dn = 1 - o**2\n",
    "1 - o.data**2"
   ]
  },
  {
   "cell_type": "code",
   "execution_count": 106,
   "id": "28a368bc",
   "metadata": {},
   "outputs": [],
   "source": [
    "o.grad = 1.0\n",
    "n.grad = 0.5\n",
    "x1w1_x2w2.grad = 0.5\n",
    "b.grad = 0.5\n",
    "x1w1.grad = 0.5\n",
    "x2w2.grad = 0.5\n",
    "x1.grad = w1.data * x1w1.grad\n",
    "w1.grad = x1.data * x1w1.grad\n",
    "x2.grad = w2.data * x2w2.grad\n",
    "w2.grad = x2.data * x2w2.grad"
   ]
  },
  {
   "cell_type": "code",
   "execution_count": null,
   "id": "840023af",
   "metadata": {},
   "outputs": [],
   "source": []
  }
 ],
 "metadata": {
  "kernelspec": {
   "display_name": "Python 3 (ipykernel)",
   "language": "python",
   "name": "python3"
  },
  "language_info": {
   "codemirror_mode": {
    "name": "ipython",
    "version": 3
   },
   "file_extension": ".py",
   "mimetype": "text/x-python",
   "name": "python",
   "nbconvert_exporter": "python",
   "pygments_lexer": "ipython3",
   "version": "3.11.1"
  }
 },
 "nbformat": 4,
 "nbformat_minor": 5
}
